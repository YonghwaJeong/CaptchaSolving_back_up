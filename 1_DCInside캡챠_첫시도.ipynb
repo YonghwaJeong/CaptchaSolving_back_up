{
 "cells": [
  {
   "cell_type": "markdown",
   "metadata": {
    "colab_type": "text",
    "id": "view-in-github"
   },
   "source": [
    "<a href=\"https://colab.research.google.com/github/taemmini/2023_Fall_HUFS_ML_Project_7/blob/main/CAPTCHA_Project_CRNN.ipynb\" target=\"_parent\"><img src=\"https://colab.research.google.com/assets/colab-badge.svg\" alt=\"Open In Colab\"/></a>"
   ]
  },
  {
   "cell_type": "markdown",
   "metadata": {},
   "source": [
    "<h3>DC Inside에서 익명글 작성시 사용되는 CAPTCHA 이미지 해석 시도</h3>\n",
    "\n",
    "> 실제 사용되는 CAPTCHA 이미지를 모방하여 만든 이미지를 사용해 학습과 예측을 시도한 케이스입니다.\n",
    "\n",
    "> 노이즈와 색깔의 존재(배경색, 글자색) 때문인지 학습이 좀처럼 진행되지 않아 완전히 실패한 케이스입니다."
   ]
  },
  {
   "cell_type": "code",
   "execution_count": 1,
   "metadata": {
    "id": "nR_wHXafYlSW",
    "scrolled": true
   },
   "outputs": [
    {
     "name": "stdout",
     "output_type": "stream",
     "text": [
      "WARNING:tensorflow:From C:\\Users\\yongh\\anaconda3\\Lib\\site-packages\\keras\\src\\losses.py:2976: The name tf.losses.sparse_softmax_cross_entropy is deprecated. Please use tf.compat.v1.losses.sparse_softmax_cross_entropy instead.\n",
      "\n"
     ]
    }
   ],
   "source": [
    "import os\n",
    "from glob import glob\n",
    "\n",
    "import numpy as np\n",
    "import matplotlib.pyplot as plt\n",
    "import tensorflow as tf \n",
    "from tensorflow import keras\n",
    "from keras import layers\n",
    "\n",
    "import cv2\n",
    "from sklearn.model_selection import train_test_split"
   ]
  },
  {
   "cell_type": "code",
   "execution_count": 2,
   "metadata": {},
   "outputs": [],
   "source": [
    "import random"
   ]
  },
  {
   "cell_type": "code",
   "execution_count": 3,
   "metadata": {},
   "outputs": [],
   "source": [
    "def load_image_with_label(folder_path : str, extension : str):\n",
    "    images = glob(r\".\\resource\\%s\\*.%s\"%(folder_path, extension))\n",
    "    labels = [img.split(os.path.sep)[3].split('.'+extension)[0].split('_')[0] for img in images]\n",
    "    return (images, labels)"
   ]
  },
  {
   "cell_type": "code",
   "execution_count": 4,
   "metadata": {},
   "outputs": [
    {
     "name": "stdout",
     "output_type": "stream",
     "text": [
      "10000 00\n"
     ]
    }
   ],
   "source": [
    "images, labels = load_image_with_label('2digitCAPTCHA','png')\n",
    "print(len(labels), labels[0])"
   ]
  },
  {
   "cell_type": "code",
   "execution_count": 5,
   "metadata": {
    "colab": {
     "base_uri": "https://localhost:8080/"
    },
    "id": "b6iRzXLJ2Wqu",
    "outputId": "188d8472-a89b-4e09-b507-7b4dd2eeb2e4"
   },
   "outputs": [
    {
     "name": "stdout",
     "output_type": "stream",
     "text": [
      "['0', '1', '2', '3', '4', '5', '6', '7', '8', '9', 'a', 'b', 'c', 'd', 'e', 'f', 'g', 'h', 'i', 'j', 'k', 'l', 'm', 'n', 'o', 'p', 'q', 'r', 's', 't', 'u', 'v', 'w', 'x', 'y', 'z']\n",
      "36\n",
      "WARNING:tensorflow:From C:\\Users\\yongh\\anaconda3\\Lib\\site-packages\\keras\\src\\backend.py:873: The name tf.get_default_graph is deprecated. Please use tf.compat.v1.get_default_graph instead.\n",
      "\n"
     ]
    },
    {
     "name": "stderr",
     "output_type": "stream",
     "text": [
      "C:\\Users\\yongh\\anaconda3\\Lib\\site-packages\\numpy\\core\\numeric.py:2468: FutureWarning: elementwise comparison failed; returning scalar instead, but in the future will perform elementwise comparison\n",
      "  return bool(asarray(a1 == a2).all())\n"
     ]
    }
   ],
   "source": [
    "unique_char = sorted(list(set(''.join(labels))))\n",
    "print(unique_char)\n",
    "print(len(unique_char))\n",
    "\n",
    "char_to_num = layers.experimental.preprocessing.StringLookup(\n",
    "    vocabulary = list(unique_char), num_oov_indices = 0, mask_token = None\n",
    ")\n",
    "num_to_char = layers.experimental.preprocessing.StringLookup(\n",
    "    vocabulary = char_to_num.get_vocabulary(), num_oov_indices = 0, mask_token = None, invert = True\n",
    ")"
   ]
  },
  {
   "cell_type": "code",
   "execution_count": 6,
   "metadata": {
    "colab": {
     "base_uri": "https://localhost:8080/"
    },
    "id": "NnqRxbE58PqB",
    "outputId": "896e5a92-025d-4ecf-f4ec-8abaea194d57"
   },
   "outputs": [
    {
     "name": "stdout",
     "output_type": "stream",
     "text": [
      "9000 1000\n",
      "9000 1000\n"
     ]
    }
   ],
   "source": [
    "x_train, x_test, y_train, y_test = train_test_split(images, labels, test_size=0.1, random_state=777)\n",
    "print(len(x_train), len(x_test))\n",
    "print(len(y_train), len(y_test))"
   ]
  },
  {
   "cell_type": "code",
   "execution_count": 7,
   "metadata": {
    "colab": {
     "base_uri": "https://localhost:8080/",
     "height": 265
    },
    "id": "c4jn9mbI9C2q",
    "outputId": "0c3f29ee-59c8-490f-fe46-9e815b03c436"
   },
   "outputs": [
    {
     "name": "stdout",
     "output_type": "stream",
     "text": [
      "1s\n"
     ]
    },
    {
     "data": {
      "text/plain": [
       "<matplotlib.image.AxesImage at 0x1d66e5b0310>"
      ]
     },
     "execution_count": 7,
     "metadata": {},
     "output_type": "execute_result"
    },
    {
     "data": {
      "image/png": "[encoded data removed]",
      "text/plain": [
       "<Figure size 640x480 with 1 Axes>"
      ]
     },
     "metadata": {},
     "output_type": "display_data"
    }
   ],
   "source": [
    "# 제대로 매칭되어 있는지 확인\n",
    "sample = cv2.imread(x_train[0])\n",
    "print(y_train[0])\n",
    "plt.imshow(sample)"
   ]
  },
  {
   "cell_type": "code",
   "execution_count": 8,
   "metadata": {
    "id": "XIkBHt74D3_o"
   },
   "outputs": [],
   "source": [
    "img_width = 200\n",
    "img_height = 50\n",
    "\n",
    "def encode_image(path, label):\n",
    "  img = tf.io.read_file(path)\n",
    "  img = tf.io.decode_png(img, channels=1)\n",
    "  img = tf.image.convert_image_dtype(img, tf.float32)\n",
    "  img = tf.image.resize(img, [img_height, img_width])\n",
    "  img = tf.transpose(img, perm=[1,0,2])\n",
    "\n",
    "  label = char_to_num(tf.strings.unicode_split(label, input_encoding = 'UTF-8'))\n",
    "\n",
    "  return {'image':img, 'label':label}"
   ]
  },
  {
   "cell_type": "code",
   "execution_count": 9,
   "metadata": {
    "colab": {
     "base_uri": "https://localhost:8080/",
     "height": 489
    },
    "id": "Iz7BNKwlGZBT",
    "outputId": "e3e13d27-57ad-459e-e03d-523d2ded777d"
   },
   "outputs": [],
   "source": [
    "# preview = encode_image(images[0], labels[0])\n",
    "# print(labels[0])\n",
    "# print(preview['label'])\n",
    "# plt.imshow(preview['image'])"
   ]
  },
  {
   "cell_type": "code",
   "execution_count": 11,
   "metadata": {
    "colab": {
     "base_uri": "https://localhost:8080/"
    },
    "id": "NwhhHWSqHYYs",
    "outputId": "689633f4-24c2-4c21-f9bd-fba5509e146c"
   },
   "outputs": [
    {
     "name": "stdout",
     "output_type": "stream",
     "text": [
      "<_PrefetchDataset element_spec={'image': TensorSpec(shape=(None, 200, 50, 1), dtype=tf.float32, name=None), 'label': TensorSpec(shape=(None, None), dtype=tf.int64, name=None)}>\n",
      "<_PrefetchDataset element_spec={'image': TensorSpec(shape=(None, 200, 50, 1), dtype=tf.float32, name=None), 'label': TensorSpec(shape=(None, None), dtype=tf.int64, name=None)}>\n"
     ]
    }
   ],
   "source": [
    "# 모델에 넣을 데이터셋 구성(배치 학습이 아니기 때문에 정해진 배치사이즈마다 일정한 양의 데이터 묶음을 넣어 학습 진행)\n",
    "\n",
    "batch_size = 64\n",
    "# tf가 제공하는 Dataset을 사용하는게 학습이 더 빨라서 일반적으로 사용하는 것 같습니다.\n",
    "train_dataset = tf.data.Dataset.from_tensor_slices((x_train, y_train))\n",
    "train_dataset = (\n",
    "    train_dataset.map(\n",
    "        encode_image, num_parallel_calls=tf.data.experimental.AUTOTUNE\n",
    "    )\n",
    "    .batch(batch_size)\n",
    "    .prefetch(buffer_size=tf.data.experimental.AUTOTUNE)\n",
    ")\n",
    "\n",
    "test_dataset = tf.data.Dataset.from_tensor_slices((x_test, y_test))\n",
    "test_dataset = (\n",
    "    test_dataset.map(\n",
    "        encode_image, num_parallel_calls=tf.data.experimental.AUTOTUNE\n",
    "    )\n",
    "    .batch(batch_size)\n",
    "    .prefetch(buffer_size=tf.data.experimental.AUTOTUNE)\n",
    ")\n",
    "\n",
    "print(train_dataset)\n",
    "print(test_dataset)"
   ]
  },
  {
   "cell_type": "code",
   "execution_count": 12,
   "metadata": {
    "id": "I3VVIHP6Ipj9"
   },
   "outputs": [],
   "source": [
    "# CTC손실함수 정의 : 정형화된 구현 방법이 존재하여 그대로 가져왔습니다.\n",
    "\n",
    "class CTCLayer(layers.Layer):\n",
    "    def __init__(self, name=None):\n",
    "        super().__init__(name=name)\n",
    "        self.loss_fn = keras.backend.ctc_batch_cost\n",
    "\n",
    "    def call(self, y_true, y_pred):\n",
    "        # Compute the training-time loss value and add it\n",
    "        # to the layer using `self.add_loss()`.\n",
    "        batch_len = tf.cast(tf.shape(y_true)[0], dtype='int64')\n",
    "        input_length = tf.cast(tf.shape(y_pred)[1], dtype='int64')\n",
    "        label_length = tf.cast(tf.shape(y_true)[1], dtype='int64')\n",
    "\n",
    "        input_length = input_length * tf.ones(shape=(batch_len, 1), dtype='int64')\n",
    "        label_length = label_length * tf.ones(shape=(batch_len, 1), dtype='int64')\n",
    "\n",
    "        loss = self.loss_fn(y_true, y_pred, input_length, label_length)\n",
    "        self.add_loss(loss)\n",
    "\n",
    "        # At test time, just return the computed predictions\n",
    "        return y_pred\n",
    "\n",
    "def build_model():\n",
    "    input_img = layers.Input(\n",
    "        shape=(img_width, img_height, 1), name='image', dtype='float32'\n",
    "    )\n",
    "    labels = layers.Input(name='label', shape=(None,), dtype='float32')\n",
    "\n",
    "    # Convolution, Maxpooling을 각각 두번하여 차원을 축소함\n",
    "\n",
    "    x = layers.Conv2D(\n",
    "        32,\n",
    "        (3, 3),\n",
    "        activation='relu',\n",
    "        kernel_initializer='he_normal',\n",
    "        padding='same',\n",
    "        name='Conv1',\n",
    "    )(input_img)\n",
    "    x = layers.MaxPooling2D((2, 2), name='pool1')(x)\n",
    "\n",
    "    x = layers.Conv2D(\n",
    "        64,\n",
    "        (3, 3),\n",
    "        activation='relu',\n",
    "        kernel_initializer='he_normal',\n",
    "        padding='same',\n",
    "        name='Conv2',\n",
    "    )(x)\n",
    "    x = layers.MaxPooling2D((2, 2), name='pool2')(x)\n",
    "\n",
    "    new_shape = ((img_width // 4), (img_height // 4) * 64)\n",
    "    x = layers.Reshape(target_shape=new_shape, name='reshape')(x)\n",
    "    x = layers.Dense(64, activation='relu', name='dense1')(x)\n",
    "    x = layers.Dropout(0.2)(x)\n",
    "\n",
    "    # RNN을 두 차례 사용\n",
    "    x = layers.Bidirectional(layers.LSTM(128, return_sequences=True, dropout=0.25))(x)\n",
    "    x = layers.Bidirectional(layers.LSTM(64, return_sequences=True, dropout=0.25))(x)\n",
    "\n",
    "    # 출력층 구성\n",
    "    x = layers.Dense(\n",
    "        len(char_to_num.get_vocabulary()) + 1, activation='softmax', name='dense2'\n",
    "    )(x)\n",
    "\n",
    "    # CTC 손실함수 적용\n",
    "    output = CTCLayer(name='ctc_loss')(labels, x)\n",
    "\n",
    "    # 모델 구성\n",
    "    model = keras.models.Model(\n",
    "        inputs=[input_img, labels], outputs=output, name='ocr_model_v1'\n",
    "    )\n",
    "    # 케라스에서 제공하는 최적화\n",
    "    opt = keras.optimizers.Adam()\n",
    "\n",
    "    model.compile(optimizer=opt)\n",
    "    return model"
   ]
  },
  {
   "cell_type": "code",
   "execution_count": 13,
   "metadata": {
    "colab": {
     "base_uri": "https://localhost:8080/"
    },
    "id": "Dl0epy3WLKAH",
    "outputId": "fcba5020-53fc-4647-8a99-963f440f738a"
   },
   "outputs": [
    {
     "name": "stdout",
     "output_type": "stream",
     "text": [
      "WARNING:tensorflow:From C:\\Users\\yongh\\anaconda3\\Lib\\site-packages\\keras\\src\\layers\\pooling\\max_pooling2d.py:161: The name tf.nn.max_pool is deprecated. Please use tf.nn.max_pool2d instead.\n",
      "\n",
      "WARNING:tensorflow:From C:\\Users\\yongh\\anaconda3\\Lib\\site-packages\\keras\\src\\engine\\base_layer_utils.py:384: The name tf.executing_eagerly_outside_functions is deprecated. Please use tf.compat.v1.executing_eagerly_outside_functions instead.\n",
      "\n",
      "Epoch 1/100\n",
      "141/141 [==============================] - 20s 116ms/step - loss: 12.4936 - val_loss: 8.4577\n",
      "Epoch 2/100\n",
      "141/141 [==============================] - 16s 111ms/step - loss: 8.4351 - val_loss: 8.4080\n",
      "Epoch 3/100\n",
      "141/141 [==============================] - 15s 107ms/step - loss: 8.0553 - val_loss: 7.3304\n",
      "Epoch 4/100\n",
      "141/141 [==============================] - 15s 107ms/step - loss: 7.2900 - val_loss: 7.2299\n",
      "Epoch 5/100\n",
      "141/141 [==============================] - 15s 106ms/step - loss: 7.2268 - val_loss: 7.2099\n",
      "Epoch 6/100\n",
      "141/141 [==============================] - 15s 107ms/step - loss: 7.2097 - val_loss: 7.2010\n",
      "Epoch 7/100\n",
      "141/141 [==============================] - 15s 106ms/step - loss: 7.1984 - val_loss: 7.1966\n",
      "Epoch 8/100\n",
      "141/141 [==============================] - 15s 108ms/step - loss: 7.1924 - val_loss: 7.1920\n",
      "Epoch 9/100\n",
      "141/141 [==============================] - 15s 107ms/step - loss: 7.1886 - val_loss: 7.1898\n",
      "Epoch 10/100\n",
      "141/141 [==============================] - 15s 107ms/step - loss: 7.1860 - val_loss: 7.1882\n",
      "Epoch 11/100\n",
      "141/141 [==============================] - 16s 114ms/step - loss: 7.1824 - val_loss: 7.1865\n",
      "Epoch 12/100\n",
      "141/141 [==============================] - 15s 109ms/step - loss: 7.1817 - val_loss: 7.1861\n",
      "Epoch 13/100\n",
      "141/141 [==============================] - 15s 107ms/step - loss: 7.1795 - val_loss: 7.1843\n",
      "Epoch 14/100\n",
      "141/141 [==============================] - 15s 105ms/step - loss: 7.1785 - val_loss: 7.1840\n",
      "Epoch 15/100\n",
      "141/141 [==============================] - 15s 106ms/step - loss: 7.1775 - val_loss: 7.1839\n",
      "Epoch 16/100\n",
      "141/141 [==============================] - 15s 106ms/step - loss: 7.1760 - val_loss: 7.1836\n",
      "Epoch 17/100\n",
      "141/141 [==============================] - 15s 105ms/step - loss: 7.1768 - val_loss: 7.1825\n",
      "Epoch 18/100\n",
      "141/141 [==============================] - 15s 105ms/step - loss: 7.1752 - val_loss: 7.1823\n",
      "Epoch 19/100\n",
      "141/141 [==============================] - 15s 104ms/step - loss: 7.1751 - val_loss: 7.1819\n",
      "Epoch 20/100\n",
      "141/141 [==============================] - 15s 105ms/step - loss: 7.1883 - val_loss: 7.1819\n",
      "Epoch 21/100\n",
      "141/141 [==============================] - 15s 105ms/step - loss: 7.1735 - val_loss: 7.1816\n",
      "Epoch 22/100\n",
      "141/141 [==============================] - 15s 105ms/step - loss: 7.1731 - val_loss: 7.1809\n",
      "Epoch 23/100\n",
      "141/141 [==============================] - 15s 106ms/step - loss: 7.1731 - val_loss: 7.1818\n",
      "Epoch 24/100\n",
      "141/141 [==============================] - 15s 105ms/step - loss: 7.1727 - val_loss: 7.1809\n",
      "Epoch 25/100\n",
      "141/141 [==============================] - 15s 105ms/step - loss: 7.1723 - val_loss: 7.1810\n",
      "Epoch 26/100\n",
      "141/141 [==============================] - 15s 106ms/step - loss: 7.1724 - val_loss: 7.1805\n",
      "Epoch 27/100\n",
      "141/141 [==============================] - 15s 106ms/step - loss: 7.1720 - val_loss: 7.1803\n",
      "Epoch 28/100\n",
      "141/141 [==============================] - 15s 106ms/step - loss: 7.1711 - val_loss: 7.1797\n",
      "Epoch 29/100\n",
      "141/141 [==============================] - 15s 105ms/step - loss: 7.1715 - val_loss: 7.1793\n",
      "Epoch 30/100\n",
      "141/141 [==============================] - 15s 105ms/step - loss: 7.1714 - val_loss: 7.1790\n",
      "Epoch 31/100\n",
      "141/141 [==============================] - 15s 105ms/step - loss: 7.1716 - val_loss: 7.1789\n",
      "Epoch 32/100\n",
      "141/141 [==============================] - 15s 105ms/step - loss: 7.1716 - val_loss: 7.1790\n",
      "Epoch 33/100\n",
      "141/141 [==============================] - 15s 106ms/step - loss: 7.1706 - val_loss: 7.1793\n",
      "Epoch 34/100\n",
      "141/141 [==============================] - 15s 106ms/step - loss: 7.1697 - val_loss: 7.1793\n",
      "Epoch 35/100\n",
      "141/141 [==============================] - 15s 109ms/step - loss: 7.1700 - val_loss: 7.1797\n",
      "Epoch 36/100\n",
      "141/141 [==============================] - 15s 108ms/step - loss: 7.1699 - val_loss: 7.1798\n",
      "Epoch 37/100\n",
      "141/141 [==============================] - 15s 105ms/step - loss: 7.1695 - val_loss: 7.1795\n",
      "Epoch 38/100\n",
      "141/141 [==============================] - 15s 105ms/step - loss: 7.1687 - val_loss: 7.1809\n",
      "Epoch 39/100\n",
      "141/141 [==============================] - 15s 105ms/step - loss: 7.1691 - val_loss: 7.1805\n",
      "Epoch 40/100\n",
      "141/141 [==============================] - 15s 107ms/step - loss: 7.1687 - val_loss: 7.1810\n",
      "Epoch 41/100\n",
      "141/141 [==============================] - 15s 109ms/step - loss: 7.1686 - val_loss: 7.1813\n",
      "Epoch 42/100\n",
      "141/141 [==============================] - 15s 108ms/step - loss: 7.1681 - val_loss: 7.1812\n",
      "Epoch 43/100\n",
      "141/141 [==============================] - 15s 107ms/step - loss: 7.1685 - val_loss: 7.1822\n",
      "Epoch 44/100\n",
      "141/141 [==============================] - 15s 107ms/step - loss: 7.1673 - val_loss: 7.1828\n",
      "Epoch 45/100\n",
      "141/141 [==============================] - 15s 107ms/step - loss: 7.1667 - val_loss: 7.1820\n",
      "Epoch 46/100\n",
      "141/141 [==============================] - 15s 108ms/step - loss: 7.1679 - val_loss: 7.1818\n",
      "Epoch 47/100\n",
      "141/141 [==============================] - 15s 108ms/step - loss: 7.1666 - val_loss: 7.1826\n",
      "Epoch 48/100\n",
      "141/141 [==============================] - 15s 106ms/step - loss: 7.1670 - val_loss: 7.1823\n",
      "Epoch 49/100\n",
      "141/141 [==============================] - 15s 106ms/step - loss: 7.1659 - val_loss: 7.1839\n",
      "Epoch 50/100\n",
      "141/141 [==============================] - 15s 106ms/step - loss: 7.1659 - val_loss: 7.1834\n",
      "Epoch 51/100\n",
      "141/141 [==============================] - 15s 108ms/step - loss: 7.1655 - val_loss: 7.1840\n"
     ]
    }
   ],
   "source": [
    "#학습\n",
    "\n",
    "model = build_model()\n",
    "\n",
    "epochs = 100\n",
    "stopping_patience = 20\n",
    "#restore_best_weights : 조기종료 후 지금까지 최적값을 냈던 가중치를 다시 선택함\n",
    "early_stopping = keras.callbacks.EarlyStopping(\n",
    "    monitor='val_loss', patience=stopping_patience, restore_best_weights=True\n",
    ")\n",
    "\n",
    "history = model.fit(\n",
    "    train_dataset,\n",
    "    validation_data = test_dataset,\n",
    "    epochs = epochs,\n",
    "    callbacks=[early_stopping],\n",
    ")"
   ]
  },
  {
   "cell_type": "code",
   "execution_count": 15,
   "metadata": {},
   "outputs": [
    {
     "name": "stdout",
     "output_type": "stream",
     "text": [
      "Epoch 1/100\n",
      "141/141 [==============================] - 15s 108ms/step - loss: 7.1610 - val_loss: 7.1853\n",
      "Epoch 2/100\n",
      "141/141 [==============================] - 15s 105ms/step - loss: 7.1621 - val_loss: 7.1834\n",
      "Epoch 3/100\n",
      "141/141 [==============================] - 15s 108ms/step - loss: 7.1622 - val_loss: 7.1838\n",
      "Epoch 4/100\n",
      "141/141 [==============================] - 15s 108ms/step - loss: 7.1616 - val_loss: 7.1859\n",
      "Epoch 5/100\n",
      "141/141 [==============================] - 15s 106ms/step - loss: 7.1613 - val_loss: 7.1849\n",
      "Epoch 6/100\n",
      "141/141 [==============================] - 15s 105ms/step - loss: 7.1619 - val_loss: 7.1863\n",
      "Epoch 7/100\n",
      "141/141 [==============================] - 15s 104ms/step - loss: 7.1600 - val_loss: 7.1855\n",
      "Epoch 8/100\n",
      "141/141 [==============================] - 15s 105ms/step - loss: 7.1605 - val_loss: 7.1844\n",
      "Epoch 9/100\n",
      "141/141 [==============================] - 15s 105ms/step - loss: 7.1603 - val_loss: 7.1855\n",
      "Epoch 10/100\n",
      "141/141 [==============================] - 15s 105ms/step - loss: 7.1617 - val_loss: 7.1833\n",
      "Epoch 11/100\n",
      "141/141 [==============================] - 15s 104ms/step - loss: 7.1606 - val_loss: 7.1851\n",
      "Epoch 12/100\n",
      "141/141 [==============================] - 15s 104ms/step - loss: 7.1589 - val_loss: 7.1883\n",
      "Epoch 13/100\n",
      "141/141 [==============================] - 15s 104ms/step - loss: 7.1600 - val_loss: 7.1865\n",
      "Epoch 14/100\n",
      "141/141 [==============================] - 15s 105ms/step - loss: 7.1587 - val_loss: 7.1853\n",
      "Epoch 15/100\n",
      "141/141 [==============================] - 15s 105ms/step - loss: 7.1598 - val_loss: 7.1853\n",
      "Epoch 16/100\n",
      "141/141 [==============================] - 15s 106ms/step - loss: 7.1591 - val_loss: 7.1848\n",
      "Epoch 17/100\n",
      "141/141 [==============================] - 16s 111ms/step - loss: 7.1580 - val_loss: 7.1887\n",
      "Epoch 18/100\n",
      "141/141 [==============================] - 16s 112ms/step - loss: 7.1587 - val_loss: 7.1844\n",
      "Epoch 19/100\n",
      "141/141 [==============================] - 16s 115ms/step - loss: 7.1591 - val_loss: 7.1851\n",
      "Epoch 20/100\n",
      "141/141 [==============================] - 15s 109ms/step - loss: 7.1574 - val_loss: 7.1867\n",
      "Epoch 21/100\n",
      "141/141 [==============================] - 15s 108ms/step - loss: 7.1581 - val_loss: 7.1880\n",
      "Epoch 22/100\n",
      "141/141 [==============================] - 15s 107ms/step - loss: 7.1572 - val_loss: 7.1877\n",
      "Epoch 23/100\n",
      "141/141 [==============================] - 15s 107ms/step - loss: 7.1586 - val_loss: 7.1865\n",
      "Epoch 24/100\n",
      "141/141 [==============================] - 15s 108ms/step - loss: 7.1573 - val_loss: 7.1862\n",
      "Epoch 25/100\n",
      "141/141 [==============================] - 16s 110ms/step - loss: 7.1580 - val_loss: 7.1863\n",
      "Epoch 26/100\n",
      "141/141 [==============================] - 15s 107ms/step - loss: 7.1580 - val_loss: 7.1884\n",
      "Epoch 27/100\n",
      "141/141 [==============================] - 15s 109ms/step - loss: 7.1580 - val_loss: 7.1881\n",
      "Epoch 28/100\n",
      "141/141 [==============================] - 15s 108ms/step - loss: 7.1562 - val_loss: 7.1903\n",
      "Epoch 29/100\n",
      "141/141 [==============================] - 15s 109ms/step - loss: 7.1589 - val_loss: 7.1908\n",
      "Epoch 30/100\n",
      "141/141 [==============================] - 15s 107ms/step - loss: 7.1574 - val_loss: 7.1919\n",
      "Epoch 31/100\n",
      "141/141 [==============================] - 15s 107ms/step - loss: 7.1564 - val_loss: 7.1872\n",
      "Epoch 32/100\n",
      "141/141 [==============================] - 15s 109ms/step - loss: 7.1560 - val_loss: 7.1906\n",
      "Epoch 33/100\n",
      "141/141 [==============================] - 15s 108ms/step - loss: 7.1565 - val_loss: 7.1892\n",
      "Epoch 34/100\n",
      "141/141 [==============================] - 15s 108ms/step - loss: 7.1544 - val_loss: 7.1935\n",
      "Epoch 35/100\n",
      "141/141 [==============================] - 15s 108ms/step - loss: 7.1572 - val_loss: 7.1939\n",
      "Epoch 36/100\n",
      "141/141 [==============================] - 15s 108ms/step - loss: 7.1548 - val_loss: 7.1923\n",
      "Epoch 37/100\n",
      "141/141 [==============================] - 15s 107ms/step - loss: 7.1545 - val_loss: 7.1948\n",
      "Epoch 38/100\n",
      "141/141 [==============================] - 15s 108ms/step - loss: 7.1545 - val_loss: 7.1949\n",
      "Epoch 39/100\n",
      "141/141 [==============================] - 15s 108ms/step - loss: 7.1555 - val_loss: 7.1948\n",
      "Epoch 40/100\n",
      "141/141 [==============================] - 15s 108ms/step - loss: 7.1541 - val_loss: 7.1915\n",
      "Epoch 41/100\n",
      "141/141 [==============================] - 15s 108ms/step - loss: 7.1529 - val_loss: 7.1955\n",
      "Epoch 42/100\n",
      "141/141 [==============================] - 15s 109ms/step - loss: 7.1536 - val_loss: 7.1983\n",
      "Epoch 43/100\n",
      "141/141 [==============================] - 15s 109ms/step - loss: 7.1542 - val_loss: 7.1926\n",
      "Epoch 44/100\n",
      "141/141 [==============================] - 16s 111ms/step - loss: 7.1526 - val_loss: 7.1977\n",
      "Epoch 45/100\n",
      "141/141 [==============================] - 15s 108ms/step - loss: 7.1528 - val_loss: 7.1983\n",
      "Epoch 46/100\n",
      "141/141 [==============================] - 15s 108ms/step - loss: 7.1535 - val_loss: 7.1986\n",
      "Epoch 47/100\n",
      "141/141 [==============================] - 15s 108ms/step - loss: 7.1511 - val_loss: 7.1970\n",
      "Epoch 48/100\n",
      "141/141 [==============================] - 15s 109ms/step - loss: 7.1515 - val_loss: 7.1943\n",
      "Epoch 49/100\n",
      "141/141 [==============================] - 15s 107ms/step - loss: 7.1518 - val_loss: 7.1921\n",
      "Epoch 50/100\n",
      "141/141 [==============================] - 15s 108ms/step - loss: 7.1538 - val_loss: 7.1965\n",
      "Epoch 51/100\n",
      "141/141 [==============================] - 15s 108ms/step - loss: 7.1512 - val_loss: 7.1974\n",
      "Epoch 52/100\n",
      "141/141 [==============================] - 15s 107ms/step - loss: 7.1513 - val_loss: 7.1964\n",
      "Epoch 53/100\n",
      "141/141 [==============================] - 15s 108ms/step - loss: 7.1516 - val_loss: 7.1958\n",
      "Epoch 54/100\n",
      "141/141 [==============================] - 15s 108ms/step - loss: 7.1506 - val_loss: 7.1972\n",
      "Epoch 55/100\n",
      "141/141 [==============================] - 15s 108ms/step - loss: 7.1509 - val_loss: 7.1959\n",
      "Epoch 56/100\n",
      "141/141 [==============================] - 15s 107ms/step - loss: 7.1501 - val_loss: 7.1950\n",
      "Epoch 57/100\n",
      "141/141 [==============================] - 15s 108ms/step - loss: 7.1509 - val_loss: 7.1946\n",
      "Epoch 58/100\n",
      "141/141 [==============================] - 15s 107ms/step - loss: 7.1509 - val_loss: 7.1931\n",
      "Epoch 59/100\n",
      "141/141 [==============================] - 15s 109ms/step - loss: 7.1492 - val_loss: 7.1956\n",
      "Epoch 60/100\n",
      "141/141 [==============================] - 15s 107ms/step - loss: 7.1507 - val_loss: 7.1914\n",
      "Epoch 61/100\n",
      "141/141 [==============================] - 15s 107ms/step - loss: 7.1518 - val_loss: 7.1966\n",
      "Epoch 62/100\n",
      "141/141 [==============================] - 16s 111ms/step - loss: 7.1505 - val_loss: 7.1978\n",
      "Epoch 63/100\n",
      "141/141 [==============================] - 16s 111ms/step - loss: 7.1484 - val_loss: 7.1944\n",
      "Epoch 64/100\n",
      "141/141 [==============================] - 15s 108ms/step - loss: 7.1481 - val_loss: 7.1976\n",
      "Epoch 65/100\n",
      "141/141 [==============================] - 15s 110ms/step - loss: 7.1472 - val_loss: 7.1950\n",
      "Epoch 66/100\n",
      "141/141 [==============================] - 15s 109ms/step - loss: 7.1504 - val_loss: 7.1988\n",
      "Epoch 67/100\n",
      "141/141 [==============================] - 15s 107ms/step - loss: 7.1477 - val_loss: 7.1976\n",
      "Epoch 68/100\n",
      "141/141 [==============================] - 16s 113ms/step - loss: 7.1482 - val_loss: 7.1983\n",
      "Epoch 69/100\n",
      "141/141 [==============================] - 15s 109ms/step - loss: 7.1468 - val_loss: 7.1976\n",
      "Epoch 70/100\n",
      "141/141 [==============================] - 15s 106ms/step - loss: 7.1483 - val_loss: 7.2047\n",
      "Epoch 71/100\n",
      "141/141 [==============================] - 15s 106ms/step - loss: 7.1491 - val_loss: 7.1996\n",
      "Epoch 72/100\n",
      "141/141 [==============================] - 15s 107ms/step - loss: 7.1462 - val_loss: 7.1972\n",
      "Epoch 73/100\n",
      "141/141 [==============================] - 15s 105ms/step - loss: 7.1468 - val_loss: 7.1954\n",
      "Epoch 74/100\n",
      "141/141 [==============================] - 15s 107ms/step - loss: 7.1508 - val_loss: 7.1982\n",
      "Epoch 75/100\n",
      "141/141 [==============================] - 15s 104ms/step - loss: 7.1481 - val_loss: 7.1990\n",
      "Epoch 76/100\n",
      "141/141 [==============================] - 15s 109ms/step - loss: 7.1459 - val_loss: 7.1994\n",
      "Epoch 77/100\n",
      "141/141 [==============================] - 15s 107ms/step - loss: 7.1469 - val_loss: 7.2021\n",
      "Epoch 78/100\n",
      "141/141 [==============================] - 15s 106ms/step - loss: 7.1468 - val_loss: 7.2006\n",
      "Epoch 79/100\n",
      "141/141 [==============================] - 15s 106ms/step - loss: 7.1449 - val_loss: 7.1994\n",
      "Epoch 80/100\n",
      "141/141 [==============================] - 15s 106ms/step - loss: 7.1460 - val_loss: 7.1997\n",
      "Epoch 81/100\n",
      "141/141 [==============================] - 15s 109ms/step - loss: 7.1462 - val_loss: 7.1981\n",
      "Epoch 82/100\n",
      "141/141 [==============================] - 15s 105ms/step - loss: 7.1458 - val_loss: 7.1975\n",
      "Epoch 83/100\n",
      "141/141 [==============================] - 15s 105ms/step - loss: 7.1454 - val_loss: 7.2019\n",
      "Epoch 84/100\n",
      "141/141 [==============================] - 15s 106ms/step - loss: 7.1454 - val_loss: 7.1988\n",
      "Epoch 85/100\n",
      "141/141 [==============================] - 15s 106ms/step - loss: 7.1462 - val_loss: 7.1996\n",
      "Epoch 86/100\n",
      "141/141 [==============================] - 15s 106ms/step - loss: 7.1457 - val_loss: 7.2017\n",
      "Epoch 87/100\n",
      "141/141 [==============================] - 15s 106ms/step - loss: 7.1439 - val_loss: 7.1988\n",
      "Epoch 88/100\n",
      "141/141 [==============================] - 15s 107ms/step - loss: 7.1458 - val_loss: 7.2021\n",
      "Epoch 89/100\n",
      "141/141 [==============================] - 15s 107ms/step - loss: 7.1437 - val_loss: 7.2029\n",
      "Epoch 90/100\n",
      "141/141 [==============================] - 15s 106ms/step - loss: 7.1454 - val_loss: 7.2039\n",
      "Epoch 91/100\n",
      "141/141 [==============================] - 15s 107ms/step - loss: 7.1450 - val_loss: 7.1987\n",
      "Epoch 92/100\n",
      "141/141 [==============================] - 15s 106ms/step - loss: 7.1430 - val_loss: 7.2023\n",
      "Epoch 93/100\n",
      "141/141 [==============================] - 15s 106ms/step - loss: 7.1437 - val_loss: 7.1997\n",
      "Epoch 94/100\n",
      "141/141 [==============================] - 15s 106ms/step - loss: 7.1459 - val_loss: 7.2061\n",
      "Epoch 95/100\n",
      "141/141 [==============================] - 15s 105ms/step - loss: 7.1432 - val_loss: 7.2059\n",
      "Epoch 96/100\n",
      "141/141 [==============================] - 15s 106ms/step - loss: 7.1424 - val_loss: 7.2048\n",
      "Epoch 97/100\n",
      "141/141 [==============================] - 15s 106ms/step - loss: 7.1421 - val_loss: 7.2052\n",
      "Epoch 98/100\n",
      "141/141 [==============================] - 15s 105ms/step - loss: 7.1430 - val_loss: 7.2076\n",
      "Epoch 99/100\n",
      "141/141 [==============================] - 15s 106ms/step - loss: 7.1424 - val_loss: 7.2043\n",
      "Epoch 100/100\n",
      "141/141 [==============================] - 15s 108ms/step - loss: 7.1402 - val_loss: 7.2023\n"
     ]
    }
   ],
   "source": [
    "epochs = 100\n",
    "stopping_patience = 100\n",
    "#restore_best_weights : 조기종료 후 지금까지 최적값을 냈던 가중치를 다시 선택함\n",
    "early_stopping = keras.callbacks.EarlyStopping(\n",
    "    monitor='val_loss', patience=stopping_patience, restore_best_weights=True\n",
    ")\n",
    "\n",
    "history = model.fit(\n",
    "    train_dataset,\n",
    "    validation_data = test_dataset,\n",
    "    epochs = epochs,\n",
    "    callbacks=[early_stopping],\n",
    ")"
   ]
  },
  {
   "cell_type": "code",
   "execution_count": 16,
   "metadata": {},
   "outputs": [],
   "source": [
    "label_length = [len(label) for label in labels]\n",
    "max_length = max(label_length)"
   ]
  },
  {
   "cell_type": "code",
   "execution_count": 17,
   "metadata": {},
   "outputs": [],
   "source": [
    "def decode_batch_predictions(pred):\n",
    "    input_len = np.ones(pred.shape[0]) * pred.shape[1]\n",
    "    results = keras.backend.ctc_decode(pred, input_length=input_len, greedy=True)[0][0][:, :max_length]\n",
    "    output_text = []\n",
    "    # encode된 글자를 복원하여 리스트에 저장\n",
    "    for res in results:\n",
    "        res = tf.strings.reduce_join(num_to_char(res)).numpy().decode('utf-8')\n",
    "        output_text.append(res)\n",
    "    return output_text"
   ]
  },
  {
   "cell_type": "code",
   "execution_count": 18,
   "metadata": {},
   "outputs": [],
   "source": [
    "prediction_model = keras.models.Model(\n",
    "  model.get_layer(name='image').input, model.get_layer(name='dense2').output\n",
    ")"
   ]
  },
  {
   "cell_type": "code",
   "execution_count": 19,
   "metadata": {},
   "outputs": [
    {
     "name": "stdout",
     "output_type": "stream",
     "text": [
      "['23', '3q', '46', '52', '7d', '7n', '8z', '9b', 'a6', 'am', 'bh', 'cv', 'e4', 'mg', 'mq', 'n7', 'nh', 'p5', 'pv', 'qu', 'vg', 'x4', 'xp', 'xy', 'yd', 'z4', 'zx']\n"
     ]
    }
   ],
   "source": [
    "test_images, test_labels = images, labels = load_image_with_label('Test','jpg')\n",
    "print(test_labels)"
   ]
  },
  {
   "cell_type": "code",
   "execution_count": 20,
   "metadata": {},
   "outputs": [],
   "source": [
    "testDataset = tf.data.Dataset.from_tensor_slices((test_images, test_labels))\n",
    "testDataset = testDataset.map(encode_image, num_parallel_calls=tf.data.experimental.AUTOTUNE)\n",
    "testDataset = testDataset.batch(len(test_labels))"
   ]
  },
  {
   "cell_type": "markdown",
   "metadata": {},
   "source": [
    "<h3>실제 사용되는 CAPTCHA 이미지 20개로 예측 시도</h3>\n",
    "\n",
    "+ 학습이 제대로 진행되지 않았고, 예측 결과도 형편 없었습니다."
   ]
  },
  {
   "cell_type": "code",
   "execution_count": 21,
   "metadata": {},
   "outputs": [
    {
     "name": "stdout",
     "output_type": "stream",
     "text": [
      "1/1 [==============================] - 1s 783ms/step\n"
     ]
    },
    {
     "data": {
      "image/png": "[encoded data removed]",
      "text/plain": [
       "<Figure size 900x500 with 20 Axes>"
      ]
     },
     "metadata": {},
     "output_type": "display_data"
    }
   ],
   "source": [
    "for batch in testDataset.take(1):\n",
    "    batch_images = batch['image']\n",
    "    batch_labels = batch['label']\n",
    "\n",
    "    preds = prediction_model.predict(batch_images)\n",
    "    pred_texts = decode_batch_predictions(preds)\n",
    "\n",
    "    _, axes = plt.subplots(4, 5, figsize=(9, 5))\n",
    "\n",
    "    for img, text, label, ax in zip(batch_images, pred_texts, batch_labels, axes.flatten()):\n",
    "        img = img.numpy().squeeze()\n",
    "        img = img.T # 이미지처리 과정에서 Transpose했던 것을 다시 복구함\n",
    "\n",
    "        text = \"Prediction : %s\\nActual : %s\"%(text, label)\n",
    "        \n",
    "        ax.imshow(img)\n",
    "        ax.set_title(text)\n",
    "        ax.set_axis_off()"
   ]
  }
 ],
 "metadata": {
  "accelerator": "GPU",
  "colab": {
   "authorship_tag": "ABX9TyPtVv1LESr7zJB2Ue2RX+Y6",
   "gpuType": "T4",
   "include_colab_link": true,
   "provenance": []
  },
  "kernelspec": {
   "display_name": "Python 3 (ipykernel)",
   "language": "python",
   "name": "python3"
  },
  "language_info": {
   "codemirror_mode": {
    "name": "ipython",
    "version": 3
   },
   "file_extension": ".py",
   "mimetype": "text/x-python",
   "name": "python",
   "nbconvert_exporter": "python",
   "pygments_lexer": "ipython3",
   "version": "3.11.5"
  }
 },
 "nbformat": 4,
 "nbformat_minor": 4
}
